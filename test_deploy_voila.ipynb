{
  "nbformat": 4,
  "nbformat_minor": 0,
  "metadata": {
    "colab": {
      "name": "test_deploy_voila.ipynb",
      "provenance": []
    },
    "kernelspec": {
      "name": "python3",
      "display_name": "Python 3"
    },
    "widgets": {
      "application/vnd.jupyter.widget-state+json": {
        "3d517691ee49435f918db8559d20df01": {
          "model_module": "@jupyter-widgets/controls",
          "model_name": "VBoxModel",
          "state": {
            "_view_name": "VBoxView",
            "_dom_classes": [
              "widget-interact"
            ],
            "_model_name": "VBoxModel",
            "_view_module": "@jupyter-widgets/controls",
            "_model_module_version": "1.5.0",
            "_view_count": null,
            "_view_module_version": "1.5.0",
            "box_style": "",
            "layout": "IPY_MODEL_ce6e06e300c344bb9b3c5bb6d22ea1f4",
            "_model_module": "@jupyter-widgets/controls",
            "children": [
              "IPY_MODEL_a15b7cd5794d4f1ca2370c95d6b404af",
              "IPY_MODEL_84b673bb0e9f44ddb939fdd13f97ad3c",
              "IPY_MODEL_d3775b50bd424b32b64e87829b9971b1"
            ]
          }
        },
        "ce6e06e300c344bb9b3c5bb6d22ea1f4": {
          "model_module": "@jupyter-widgets/base",
          "model_name": "LayoutModel",
          "state": {
            "_view_name": "LayoutView",
            "grid_template_rows": null,
            "right": null,
            "justify_content": null,
            "_view_module": "@jupyter-widgets/base",
            "overflow": null,
            "_model_module_version": "1.2.0",
            "_view_count": null,
            "flex_flow": null,
            "width": null,
            "min_width": null,
            "border": null,
            "align_items": null,
            "bottom": null,
            "_model_module": "@jupyter-widgets/base",
            "top": null,
            "grid_column": null,
            "overflow_y": null,
            "overflow_x": null,
            "grid_auto_flow": null,
            "grid_area": null,
            "grid_template_columns": null,
            "flex": null,
            "_model_name": "LayoutModel",
            "justify_items": null,
            "grid_row": null,
            "max_height": null,
            "align_content": null,
            "visibility": null,
            "align_self": null,
            "height": null,
            "min_height": null,
            "padding": null,
            "grid_auto_rows": null,
            "grid_gap": null,
            "max_width": null,
            "order": null,
            "_view_module_version": "1.2.0",
            "grid_template_areas": null,
            "object_position": null,
            "object_fit": null,
            "grid_auto_columns": null,
            "margin": null,
            "display": null,
            "left": null
          }
        },
        "a15b7cd5794d4f1ca2370c95d6b404af": {
          "model_module": "@jupyter-widgets/controls",
          "model_name": "FloatSliderModel",
          "state": {
            "_view_name": "FloatSliderView",
            "style": "IPY_MODEL_422d6dadaa944b5e9bf44e415483366e",
            "_dom_classes": [],
            "description": "a",
            "step": 0.1,
            "_model_name": "FloatSliderModel",
            "orientation": "horizontal",
            "max": 0,
            "_view_module": "@jupyter-widgets/controls",
            "_model_module_version": "1.5.0",
            "value": -1,
            "_view_count": null,
            "disabled": false,
            "_view_module_version": "1.5.0",
            "min": -1,
            "continuous_update": true,
            "readout_format": ".2f",
            "description_tooltip": null,
            "readout": true,
            "_model_module": "@jupyter-widgets/controls",
            "layout": "IPY_MODEL_ab1958ab960740f3bd484b5414121baa"
          }
        },
        "84b673bb0e9f44ddb939fdd13f97ad3c": {
          "model_module": "@jupyter-widgets/controls",
          "model_name": "FloatSliderModel",
          "state": {
            "_view_name": "FloatSliderView",
            "style": "IPY_MODEL_c9ee84ef94884ce185bab986a4a13663",
            "_dom_classes": [],
            "description": "f",
            "step": 0.1,
            "_model_name": "FloatSliderModel",
            "orientation": "horizontal",
            "max": 1,
            "_view_module": "@jupyter-widgets/controls",
            "_model_module_version": "1.5.0",
            "value": 0.55,
            "_view_count": null,
            "disabled": false,
            "_view_module_version": "1.5.0",
            "min": 0.1,
            "continuous_update": true,
            "readout_format": ".2f",
            "description_tooltip": null,
            "readout": true,
            "_model_module": "@jupyter-widgets/controls",
            "layout": "IPY_MODEL_dcb6e681963b4218b1683c50555c0f4c"
          }
        },
        "d3775b50bd424b32b64e87829b9971b1": {
          "model_module": "@jupyter-widgets/output",
          "model_name": "OutputModel",
          "state": {
            "_view_name": "OutputView",
            "msg_id": "",
            "_dom_classes": [],
            "_model_name": "OutputModel",
            "outputs": [
              {
                "output_type": "display_data",
                "metadata": {
                  "tags": [],
                  "needs_background": "light"
                },
                "image/png": "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\n",
                "text/plain": "<Figure size 432x288 with 1 Axes>"
              }
            ],
            "_view_module": "@jupyter-widgets/output",
            "_model_module_version": "1.0.0",
            "_view_count": null,
            "_view_module_version": "1.0.0",
            "layout": "IPY_MODEL_d79bc9093f154bfba83231cd045e2625",
            "_model_module": "@jupyter-widgets/output"
          }
        },
        "422d6dadaa944b5e9bf44e415483366e": {
          "model_module": "@jupyter-widgets/controls",
          "model_name": "SliderStyleModel",
          "state": {
            "_view_name": "StyleView",
            "handle_color": null,
            "_model_name": "SliderStyleModel",
            "description_width": "",
            "_view_module": "@jupyter-widgets/base",
            "_model_module_version": "1.5.0",
            "_view_count": null,
            "_view_module_version": "1.2.0",
            "_model_module": "@jupyter-widgets/controls"
          }
        },
        "ab1958ab960740f3bd484b5414121baa": {
          "model_module": "@jupyter-widgets/base",
          "model_name": "LayoutModel",
          "state": {
            "_view_name": "LayoutView",
            "grid_template_rows": null,
            "right": null,
            "justify_content": null,
            "_view_module": "@jupyter-widgets/base",
            "overflow": null,
            "_model_module_version": "1.2.0",
            "_view_count": null,
            "flex_flow": null,
            "width": null,
            "min_width": null,
            "border": null,
            "align_items": null,
            "bottom": null,
            "_model_module": "@jupyter-widgets/base",
            "top": null,
            "grid_column": null,
            "overflow_y": null,
            "overflow_x": null,
            "grid_auto_flow": null,
            "grid_area": null,
            "grid_template_columns": null,
            "flex": null,
            "_model_name": "LayoutModel",
            "justify_items": null,
            "grid_row": null,
            "max_height": null,
            "align_content": null,
            "visibility": null,
            "align_self": null,
            "height": null,
            "min_height": null,
            "padding": null,
            "grid_auto_rows": null,
            "grid_gap": null,
            "max_width": null,
            "order": null,
            "_view_module_version": "1.2.0",
            "grid_template_areas": null,
            "object_position": null,
            "object_fit": null,
            "grid_auto_columns": null,
            "margin": null,
            "display": null,
            "left": null
          }
        },
        "c9ee84ef94884ce185bab986a4a13663": {
          "model_module": "@jupyter-widgets/controls",
          "model_name": "SliderStyleModel",
          "state": {
            "_view_name": "StyleView",
            "handle_color": null,
            "_model_name": "SliderStyleModel",
            "description_width": "",
            "_view_module": "@jupyter-widgets/base",
            "_model_module_version": "1.5.0",
            "_view_count": null,
            "_view_module_version": "1.2.0",
            "_model_module": "@jupyter-widgets/controls"
          }
        },
        "dcb6e681963b4218b1683c50555c0f4c": {
          "model_module": "@jupyter-widgets/base",
          "model_name": "LayoutModel",
          "state": {
            "_view_name": "LayoutView",
            "grid_template_rows": null,
            "right": null,
            "justify_content": null,
            "_view_module": "@jupyter-widgets/base",
            "overflow": null,
            "_model_module_version": "1.2.0",
            "_view_count": null,
            "flex_flow": null,
            "width": null,
            "min_width": null,
            "border": null,
            "align_items": null,
            "bottom": null,
            "_model_module": "@jupyter-widgets/base",
            "top": null,
            "grid_column": null,
            "overflow_y": null,
            "overflow_x": null,
            "grid_auto_flow": null,
            "grid_area": null,
            "grid_template_columns": null,
            "flex": null,
            "_model_name": "LayoutModel",
            "justify_items": null,
            "grid_row": null,
            "max_height": null,
            "align_content": null,
            "visibility": null,
            "align_self": null,
            "height": null,
            "min_height": null,
            "padding": null,
            "grid_auto_rows": null,
            "grid_gap": null,
            "max_width": null,
            "order": null,
            "_view_module_version": "1.2.0",
            "grid_template_areas": null,
            "object_position": null,
            "object_fit": null,
            "grid_auto_columns": null,
            "margin": null,
            "display": null,
            "left": null
          }
        },
        "d79bc9093f154bfba83231cd045e2625": {
          "model_module": "@jupyter-widgets/base",
          "model_name": "LayoutModel",
          "state": {
            "_view_name": "LayoutView",
            "grid_template_rows": null,
            "right": null,
            "justify_content": null,
            "_view_module": "@jupyter-widgets/base",
            "overflow": null,
            "_model_module_version": "1.2.0",
            "_view_count": null,
            "flex_flow": null,
            "width": null,
            "min_width": null,
            "border": null,
            "align_items": null,
            "bottom": null,
            "_model_module": "@jupyter-widgets/base",
            "top": null,
            "grid_column": null,
            "overflow_y": null,
            "overflow_x": null,
            "grid_auto_flow": null,
            "grid_area": null,
            "grid_template_columns": null,
            "flex": null,
            "_model_name": "LayoutModel",
            "justify_items": null,
            "grid_row": null,
            "max_height": null,
            "align_content": null,
            "visibility": null,
            "align_self": null,
            "height": "300px",
            "min_height": null,
            "padding": null,
            "grid_auto_rows": null,
            "grid_gap": null,
            "max_width": null,
            "order": null,
            "_view_module_version": "1.2.0",
            "grid_template_areas": null,
            "object_position": null,
            "object_fit": null,
            "grid_auto_columns": null,
            "margin": null,
            "display": null,
            "left": null
          }
        }
      }
    }
  },
  "cells": [
    {
      "cell_type": "code",
      "metadata": {
        "colab": {
          "base_uri": "https://localhost:8080/",
          "height": 381,
          "referenced_widgets": [
            "3d517691ee49435f918db8559d20df01",
            "ce6e06e300c344bb9b3c5bb6d22ea1f4",
            "a15b7cd5794d4f1ca2370c95d6b404af",
            "84b673bb0e9f44ddb939fdd13f97ad3c",
            "d3775b50bd424b32b64e87829b9971b1",
            "422d6dadaa944b5e9bf44e415483366e",
            "ab1958ab960740f3bd484b5414121baa",
            "c9ee84ef94884ce185bab986a4a13663",
            "dcb6e681963b4218b1683c50555c0f4c",
            "d79bc9093f154bfba83231cd045e2625"
          ]
        },
        "id": "Aa4Ykb5queyi",
        "outputId": "b7954a05-38f8-43b0-97e0-943f5de4c9a0"
      },
      "source": [
        "import numpy as np\r\n",
        "import matplotlib.pyplot as plt\r\n",
        "from ipywidgets import interactive\r\n",
        "%matplotlib inline\r\n",
        "\r\n",
        "def plot_func(a, f):\r\n",
        "    plt.figure(2)\r\n",
        "    x = np.linspace(0, 2*np.pi, num=1000)\r\n",
        "    y = a*np.sin(1/f*x)\r\n",
        "    plt.plot(x,y)\r\n",
        "    plt.ylim(-1.1, 1.1)\r\n",
        "    plt.title('a sin(f)')\r\n",
        "    plt.show()\r\n",
        "\r\n",
        "interactive_plot = interactive(plot_func, a=(-1,0,0.1), f=(0.1, 1))\r\n",
        "output = interactive_plot.children[-1]\r\n",
        "output.layout.height = '300px'\r\n",
        "interactive_plot\r\n"
      ],
      "execution_count": 1,
      "outputs": [
        {
          "output_type": "display_data",
          "data": {
            "application/vnd.jupyter.widget-view+json": {
              "model_id": "3d517691ee49435f918db8559d20df01",
              "version_minor": 0,
              "version_major": 2
            },
            "text/plain": [
              "interactive(children=(FloatSlider(value=-1.0, description='a', max=0.0, min=-1.0), FloatSlider(value=0.55, des…"
            ]
          },
          "metadata": {
            "tags": []
          }
        }
      ]
    },
    {
      "cell_type": "code",
      "metadata": {
        "id": "XK64AiWPupWs"
      },
      "source": [
        "# !pip freeze > requirements.txt"
      ],
      "execution_count": 3,
      "outputs": []
    },
    {
      "cell_type": "code",
      "metadata": {
        "id": "R1WH3WsuuxbU"
      },
      "source": [
        ""
      ],
      "execution_count": null,
      "outputs": []
    }
  ]
}